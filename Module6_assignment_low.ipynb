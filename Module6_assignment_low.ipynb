{
 "cells": [
  {
   "cell_type": "markdown",
   "metadata": {
    "deletable": false,
    "editable": false,
    "nbgrader": {
     "cell_type": "markdown",
     "checksum": "889597ea969f79c5d9f78e145b771099",
     "grade": false,
     "grade_id": "title",
     "locked": true,
     "schema_version": 3,
     "solution": false
    }
   },
   "source": [
    "# Module 6 Assignment\n",
    "\n",
    "\n",
    "A few things you should keep in mind when working on assignments:\n",
    "\n",
    "1. Run the first code cell to import modules needed by this assignment before proceeding to problems.\n",
    "2. Make sure you fill in any place that says `# YOUR CODE HERE`. Do not write your answer anywhere else other than where it says `# YOUR CODE HERE`. Anything you write elsewhere will be removed or overwritten by the autograder.\n",
    "3. Each problem has an autograder cell below the answer cell. Run the autograder cell to check your answer. If there's anything wrong in your answer, the autograder cell will display error messages.\n",
    "4. Before you submit your assignment, make sure everything runs as expected. Go to the menubar, select Kernel, and Restart & Run all. If the notebook runs through the last code cell without an error message, you've answered all problems correctly.\n",
    "5. Make sure that you save your work (in the menubar, select File → Save and CheckPoint).\n",
    "\n",
    "-----"
   ]
  },
  {
   "cell_type": "markdown",
   "metadata": {
    "deletable": false,
    "editable": false,
    "nbgrader": {
     "cell_type": "markdown",
     "checksum": "2226a54466613836edfdf1a6527ebf3f",
     "grade": false,
     "grade_id": "cell-86534e0403669121",
     "locked": true,
     "schema_version": 3,
     "solution": false
    }
   },
   "source": [
    "# Run Me First!"
   ]
  },
  {
   "cell_type": "code",
   "execution_count": 1,
   "metadata": {
    "deletable": false,
    "editable": false,
    "nbgrader": {
     "cell_type": "code",
     "checksum": "d0a77094aa3f35616e7bb6ae923c75c3",
     "grade": false,
     "grade_id": "cell-e12b60909e10cbff",
     "locked": true,
     "schema_version": 3,
     "solution": false
    }
   },
   "outputs": [],
   "source": [
    "import pandas as pd\n",
    "import numpy as np\n",
    "import matplotlib as mpl\n",
    "import matplotlib.pyplot as plt\n",
    "from nose.tools import assert_equal, assert_almost_equal, assert_in, assert_is_instance, assert_is_not\n",
    "import warnings\n",
    "warnings.filterwarnings('ignore')\n",
    "%matplotlib inline"
   ]
  },
  {
   "cell_type": "code",
   "execution_count": 2,
   "metadata": {
    "deletable": false,
    "editable": false,
    "nbgrader": {
     "cell_type": "code",
     "checksum": "1b9ed7c081e5bafcbabd1b32af55241a",
     "grade": false,
     "grade_id": "cell-22e71bd7004d2307",
     "locked": true,
     "schema_version": 3,
     "solution": false
    }
   },
   "outputs": [],
   "source": [
    "#we import seaborn and use sns.set() to change the plot styling.\n",
    "import seaborn as sns\n",
    "sns.set()"
   ]
  },
  {
   "cell_type": "markdown",
   "metadata": {
    "deletable": false,
    "editable": false,
    "nbgrader": {
     "cell_type": "markdown",
     "checksum": "a638b89baad3ffb9448570299dca450a",
     "grade": false,
     "grade_id": "p1-text",
     "locked": true,
     "schema_version": 3,
     "solution": false
    }
   },
   "source": [
    "# Problem 1: Plotting a function\n",
    "\n",
    "In this problem you will plot a function.\n",
    "\n",
    "- Use matplotlib to plot the output of $x^2 + 3 - log(x)$ which is saved in the below variable called $y$.\n",
    "\n",
    "\n",
    "- Title the plot \"Plot of $y = x^2 + 3 - log(x)$\"(Hint: use LaTex `Plot of $y = x^2 + 3 - log(x)$`). \n",
    "\n",
    "\n",
    "- Label the x-axis as \"x\".\n",
    "\n",
    "\n",
    "- Label the y-axis as \"y\".\n",
    "\n",
    "\n",
    "- IMPORTANT: Recall that math notation is required to render the title properly. Check the \"intro2md\" notebook from Module 1 for a refresher on how to do this. Math notation is *not* needed for the x and y axes labels."
   ]
  },
  {
   "cell_type": "code",
   "execution_count": 3,
   "metadata": {
    "deletable": false,
    "editable": false,
    "nbgrader": {
     "cell_type": "code",
     "checksum": "0d793aa0c04074075923ba0a2494c3b9",
     "grade": false,
     "grade_id": "p1-code",
     "locked": true,
     "schema_version": 3,
     "solution": false
    }
   },
   "outputs": [],
   "source": [
    "# generate x values to calculate the function \n",
    "x = np.linspace(0, 2, num=100)\n",
    "\n",
    "# calculate y\n",
    "y = x**2 + 3 - np.log(x)"
   ]
  },
  {
   "cell_type": "code",
   "execution_count": 4,
   "metadata": {
    "deletable": false,
    "nbgrader": {
     "cell_type": "code",
     "checksum": "530088f7738d4445a90ebe06fc31384a",
     "grade": false,
     "grade_id": "p1-answer",
     "locked": false,
     "schema_version": 3,
     "solution": true
    }
   },
   "outputs": [
    {
     "data": {
      "image/png": "[encoded data removed]",
      "text/plain": [
       "<Figure size 432x288 with 1 Axes>"
      ]
     },
     "metadata": {},
     "output_type": "display_data"
    }
   ],
   "source": [
    "fig, ax = plt.subplots()\n",
    "\n",
    "# YOUR CODE HERE\n",
    "ax.plot(x, y)\n",
    "ax.set_title('Plot of $y = x^2 + 3 - log(x)$')\n",
    "ax.set_xlabel('x')\n",
    "ax.set_ylabel('y')\n",
    "plt.show()"
   ]
  },
  {
   "cell_type": "code",
   "execution_count": 5,
   "metadata": {
    "deletable": false,
    "editable": false,
    "nbgrader": {
     "cell_type": "code",
     "checksum": "f0e771a51fc17792c136851a16144461",
     "grade": true,
     "grade_id": "p1-test",
     "locked": true,
     "points": 1,
     "schema_version": 3,
     "solution": false
    }
   },
   "outputs": [],
   "source": [
    "assert_equal(ax.get_xlabel(), 'x',msg='The x label is incorrect or missing')\n",
    "assert_equal(ax.get_ylabel(), 'y',msg='The x label is incorrect or missing')\n",
    "assert_equal(ax.get_title(), \"Plot of $y = x^2 + 3 - log(x)$\" ,msg='The title is incorrect or missing')"
   ]
  },
  {
   "cell_type": "markdown",
   "metadata": {
    "deletable": false,
    "editable": false,
    "nbgrader": {
     "cell_type": "markdown",
     "checksum": "f657dcebcbecd6d3a04b4e92111fedfd",
     "grade": false,
     "grade_id": "p2-text_",
     "locked": true,
     "schema_version": 3,
     "solution": false
    }
   },
   "source": [
    "# Problem 2: Adding legends\n",
    "\n",
    "Plot two functions, add a legend and color the plots so we know which one is which.\n",
    "\n",
    "- Use matplotlib to plot the output of $x^2 + 3 - log(x)$ which is saved in the variable $y$ and plot the output of $x^2 + 3 + log(x)$ which is saved in the below variable called $y2$, all on the same plot.\n",
    "\n",
    "- Name first plot as \"subtracting log\" and second plot as \"adding log\"\n",
    "\n",
    "- Title the plot \"Plot of $y = x^2 + 3 - log(x)$ and $y = x^2 + 3 + log(x)$\".(Hint: use LaTex)\n",
    "\n",
    "- Label the x-axis as \"x\".\n",
    "\n",
    "- Label the y-axis as \"y\".\n",
    "\n",
    "- Change the color of the plot for y2 to red.\n",
    "\n",
    "\n"
   ]
  },
  {
   "cell_type": "code",
   "execution_count": 6,
   "metadata": {
    "deletable": false,
    "editable": false,
    "nbgrader": {
     "cell_type": "code",
     "checksum": "49698b2760ada7c53cc2d571ba1d423f",
     "grade": false,
     "grade_id": "cell-e27f83d746673951",
     "locked": true,
     "schema_version": 3,
     "solution": false
    }
   },
   "outputs": [],
   "source": [
    "# generate x values to calculate the function at\n",
    "x = np.linspace(0, 2, num=100)\n",
    "\n",
    "# calculate y\n",
    "y = x**2 + 3 - np.log(x)\n",
    "y2 = x**2 + 3 + np.log(x)"
   ]
  },
  {
   "cell_type": "code",
   "execution_count": 13,
   "metadata": {
    "deletable": false,
    "nbgrader": {
     "cell_type": "code",
     "checksum": "27f8511fb9866ea955c940373e8684eb",
     "grade": false,
     "grade_id": "p2-answer",
     "locked": false,
     "schema_version": 3,
     "solution": true
    }
   },
   "outputs": [
    {
     "data": {
      "image/png": "[encoded data removed]",
      "text/plain": [
       "<Figure size 432x288 with 1 Axes>"
      ]
     },
     "metadata": {},
     "output_type": "display_data"
    }
   ],
   "source": [
    "fig, ax = plt.subplots()\n",
    "\n",
    "# YOUR CODE HERE\n",
    "ax.plot(x, y, label=\"subtracting log\")\n",
    "ax.plot(x, y2, label=\"adding log\", color = 'red')\n",
    "ax.set_xlabel(\"x\")\n",
    "ax.set_ylabel(\"y\")\n",
    "ax.set_title(\"Plot of $y = x^2 + 3 - log(x)$ and $y = x^2 + 3 + log(x)$\")\n",
    "plt.show()"
   ]
  },
  {
   "cell_type": "code",
   "execution_count": 14,
   "metadata": {
    "deletable": false,
    "editable": false,
    "nbgrader": {
     "cell_type": "code",
     "checksum": "af0c987abeefbe937e451f464c607dba",
     "grade": true,
     "grade_id": "p2-test",
     "locked": true,
     "points": 1,
     "schema_version": 3,
     "solution": false
    }
   },
   "outputs": [],
   "source": [
    "assert_equal(ax.get_xlabel(), 'x',msg='The x label is incorrect or missing')\n",
    "assert_equal(ax.get_ylabel(), 'y',msg='The y label is incorrect or missing')\n",
    "assert_equal(ax.get_title(), \"Plot of $y = x^2 + 3 - log(x)$ and $y = x^2 + 3 + log(x)$\",\n",
    "             msg='The title is incorrect or missing')\n",
    "\n",
    "\n",
    "if ax.lines[1].get_color() in ['red', 'r']:\n",
    "    assert_in(ax.lines[1].get_color(), ['red', 'r'], msg='The line for y2 was not colored red')\n",
    "else:\n",
    "    assert_in(ax.lines[0].get_color(), ['red', 'r'], msg='The line for y2 was not colored red')\n",
    "\n",
    "if ax.legend().get_texts()[1].get_text() == 'adding log':\n",
    "    assert_equal(ax.legend().get_texts()[1].get_text(), 'adding log',\n",
    "                 msg='The label for y2 is incorrect')\n",
    "else:\n",
    "    assert_equal(ax.legend().get_texts()[0].get_text(), 'adding log',msg='The label for y2 is incorrect')"
   ]
  },
  {
   "cell_type": "markdown",
   "metadata": {
    "deletable": false,
    "editable": false,
    "nbgrader": {
     "cell_type": "markdown",
     "checksum": "466662c83b24caff10b0643a69802627",
     "grade": false,
     "grade_id": "cell-ec823663d1aa7f03",
     "locked": true,
     "schema_version": 3,
     "solution": false
    }
   },
   "source": [
    "For the next few problems we will use the Dow Jones index data, which is loaded in the below cell. It contains various information about several stocks, including the opening price, the high price, and the closing price for different days."
   ]
  },
  {
   "cell_type": "code",
   "execution_count": 15,
   "metadata": {
    "deletable": false,
    "editable": false,
    "nbgrader": {
     "cell_type": "code",
     "checksum": "ace9a10a733eaf391af08cffa0fcf59c",
     "grade": false,
     "grade_id": "cell-3f0fe0fe5fab8320",
     "locked": true,
     "schema_version": 3,
     "solution": false
    }
   },
   "outputs": [
    {
     "data": {
      "text/html": [
       "<div>\n",
       "<style scoped>\n",
       "    .dataframe tbody tr th:only-of-type {\n",
       "        vertical-align: middle;\n",
       "    }\n",
       "\n",
       "    .dataframe tbody tr th {\n",
       "        vertical-align: top;\n",
       "    }\n",
       "\n",
       "    .dataframe thead th {\n",
       "        text-align: right;\n",
       "    }\n",
       "</style>\n",
       "<table border=\"1\" class=\"dataframe\">\n",
       "  <thead>\n",
       "    <tr style=\"text-align: right;\">\n",
       "      <th></th>\n",
       "      <th>quarter</th>\n",
       "      <th>stock</th>\n",
       "      <th>date</th>\n",
       "      <th>open</th>\n",
       "      <th>high</th>\n",
       "      <th>low</th>\n",
       "      <th>close</th>\n",
       "      <th>volume</th>\n",
       "      <th>percent_change_price</th>\n",
       "      <th>percent_change_volume_over_last_wk</th>\n",
       "      <th>previous_weeks_volume</th>\n",
       "      <th>next_weeks_open</th>\n",
       "      <th>next_weeks_close</th>\n",
       "      <th>percent_change_next_weeks_price</th>\n",
       "      <th>days_to_next_dividend</th>\n",
       "      <th>percent_return_next_dividend</th>\n",
       "    </tr>\n",
       "  </thead>\n",
       "  <tbody>\n",
       "    <tr>\n",
       "      <th>0</th>\n",
       "      <td>1</td>\n",
       "      <td>AA</td>\n",
       "      <td>1/7/2011</td>\n",
       "      <td>15.82</td>\n",
       "      <td>16.72</td>\n",
       "      <td>15.78</td>\n",
       "      <td>16.42</td>\n",
       "      <td>239655616</td>\n",
       "      <td>3.79267</td>\n",
       "      <td>NaN</td>\n",
       "      <td>NaN</td>\n",
       "      <td>16.71</td>\n",
       "      <td>15.97</td>\n",
       "      <td>-4.428490</td>\n",
       "      <td>26</td>\n",
       "      <td>0.182704</td>\n",
       "    </tr>\n",
       "    <tr>\n",
       "      <th>1</th>\n",
       "      <td>1</td>\n",
       "      <td>AA</td>\n",
       "      <td>1/14/2011</td>\n",
       "      <td>16.71</td>\n",
       "      <td>16.71</td>\n",
       "      <td>15.64</td>\n",
       "      <td>15.97</td>\n",
       "      <td>242963398</td>\n",
       "      <td>-4.42849</td>\n",
       "      <td>1.380223</td>\n",
       "      <td>239655616.0</td>\n",
       "      <td>16.19</td>\n",
       "      <td>15.79</td>\n",
       "      <td>-2.470660</td>\n",
       "      <td>19</td>\n",
       "      <td>0.187852</td>\n",
       "    </tr>\n",
       "    <tr>\n",
       "      <th>2</th>\n",
       "      <td>1</td>\n",
       "      <td>AA</td>\n",
       "      <td>1/21/2011</td>\n",
       "      <td>16.19</td>\n",
       "      <td>16.38</td>\n",
       "      <td>15.60</td>\n",
       "      <td>15.79</td>\n",
       "      <td>138428495</td>\n",
       "      <td>-2.47066</td>\n",
       "      <td>-43.024959</td>\n",
       "      <td>242963398.0</td>\n",
       "      <td>15.87</td>\n",
       "      <td>16.13</td>\n",
       "      <td>1.638310</td>\n",
       "      <td>12</td>\n",
       "      <td>0.189994</td>\n",
       "    </tr>\n",
       "    <tr>\n",
       "      <th>3</th>\n",
       "      <td>1</td>\n",
       "      <td>AA</td>\n",
       "      <td>1/28/2011</td>\n",
       "      <td>15.87</td>\n",
       "      <td>16.63</td>\n",
       "      <td>15.82</td>\n",
       "      <td>16.13</td>\n",
       "      <td>151379173</td>\n",
       "      <td>1.63831</td>\n",
       "      <td>9.355500</td>\n",
       "      <td>138428495.0</td>\n",
       "      <td>16.18</td>\n",
       "      <td>17.14</td>\n",
       "      <td>5.933250</td>\n",
       "      <td>5</td>\n",
       "      <td>0.185989</td>\n",
       "    </tr>\n",
       "    <tr>\n",
       "      <th>4</th>\n",
       "      <td>1</td>\n",
       "      <td>AA</td>\n",
       "      <td>2/4/2011</td>\n",
       "      <td>16.18</td>\n",
       "      <td>17.39</td>\n",
       "      <td>16.18</td>\n",
       "      <td>17.14</td>\n",
       "      <td>154387761</td>\n",
       "      <td>5.93325</td>\n",
       "      <td>1.987452</td>\n",
       "      <td>151379173.0</td>\n",
       "      <td>17.33</td>\n",
       "      <td>17.37</td>\n",
       "      <td>0.230814</td>\n",
       "      <td>97</td>\n",
       "      <td>0.175029</td>\n",
       "    </tr>\n",
       "  </tbody>\n",
       "</table>\n",
       "</div>"
      ],
      "text/plain": [
       "   quarter stock       date   open   high    low  close     volume  \\\n",
       "0        1    AA   1/7/2011  15.82  16.72  15.78  16.42  239655616   \n",
       "1        1    AA  1/14/2011  16.71  16.71  15.64  15.97  242963398   \n",
       "2        1    AA  1/21/2011  16.19  16.38  15.60  15.79  138428495   \n",
       "3        1    AA  1/28/2011  15.87  16.63  15.82  16.13  151379173   \n",
       "4        1    AA   2/4/2011  16.18  17.39  16.18  17.14  154387761   \n",
       "\n",
       "   percent_change_price  percent_change_volume_over_last_wk  \\\n",
       "0               3.79267                                 NaN   \n",
       "1              -4.42849                            1.380223   \n",
       "2              -2.47066                          -43.024959   \n",
       "3               1.63831                            9.355500   \n",
       "4               5.93325                            1.987452   \n",
       "\n",
       "   previous_weeks_volume  next_weeks_open  next_weeks_close  \\\n",
       "0                    NaN            16.71             15.97   \n",
       "1            239655616.0            16.19             15.79   \n",
       "2            242963398.0            15.87             16.13   \n",
       "3            138428495.0            16.18             17.14   \n",
       "4            151379173.0            17.33             17.37   \n",
       "\n",
       "   percent_change_next_weeks_price  days_to_next_dividend  \\\n",
       "0                        -4.428490                     26   \n",
       "1                        -2.470660                     19   \n",
       "2                         1.638310                     12   \n",
       "3                         5.933250                      5   \n",
       "4                         0.230814                     97   \n",
       "\n",
       "   percent_return_next_dividend  \n",
       "0                      0.182704  \n",
       "1                      0.187852  \n",
       "2                      0.189994  \n",
       "3                      0.185989  \n",
       "4                      0.175029  "
      ]
     },
     "execution_count": 15,
     "metadata": {},
     "output_type": "execute_result"
    }
   ],
   "source": [
    "#Load in the data\n",
    "df = pd.read_csv('./data/dow_jones_index.data')\n",
    "#Look at the first 5 rows of the dataset\n",
    "df.head()"
   ]
  },
  {
   "cell_type": "markdown",
   "metadata": {
    "deletable": false,
    "editable": false,
    "nbgrader": {
     "cell_type": "markdown",
     "checksum": "eb2bbe76140e0262d4bfb26cff44d8db",
     "grade": false,
     "grade_id": "p3-text",
     "locked": true,
     "schema_version": 3,
     "solution": false
    }
   },
   "source": [
    "# Problem 3: Plotting the opening price of a stock\n",
    "\n",
    "In this problem you will create a histogram of the opening price for a stock from the Dow Jones dataset.\n",
    "\n",
    "\n",
    "- Write a function called \"open_histogram\" which takes in a dataframe and the ticker name of a stock and outputs a histogram of that stocks opening price using the matplotlib hist function.\n",
    "\n",
    "\n",
    "- Set the number of bins in the histogram to 20.\n",
    "\n",
    "\n",
    "- Give the plot a descriptive title.\n",
    "\n",
    "\n",
    "- Give the plot a descriptive x-axis label.\n",
    "\n"
   ]
  },
  {
   "cell_type": "code",
   "execution_count": 16,
   "metadata": {
    "deletable": false,
    "nbgrader": {
     "cell_type": "code",
     "checksum": "91208acceada8ce227491ee801036bb8",
     "grade": false,
     "grade_id": "p3-answer",
     "locked": false,
     "schema_version": 3,
     "solution": true
    }
   },
   "outputs": [],
   "source": [
    "def open_histogram(df,ticker_name):\n",
    "    '''\n",
    "    A function which creates a histogram of the opening price of a given stock from the Dow Jones dataset.\n",
    "    \n",
    "    \n",
    "    Parameters\n",
    "    -------\n",
    "    df: a pandas dataframe containing stock price data from the Dow Jones dataset.\n",
    "    \n",
    "    ticker_name: the ticker name of the stock of interest\n",
    "    \n",
    "    \n",
    "    Returns\n",
    "    --------\n",
    "    \n",
    "    ax: a matplotlib axes object containing a histogram of the stock's opening prices from the Dow Jones dataset.\n",
    "    \n",
    "    '''\n",
    "        \n",
    "    # YOUR CODE HERE\n",
    "    mask = df[df['stock'] == ticker_name]\n",
    "    \n",
    "    \n",
    "    \n",
    "    fig, ax = plt.subplots()\n",
    "    \n",
    "    ax.hist(mask.open, bins=20)\n",
    "    \n",
    "    ax.set_title(\"Stock Price\", fontsize=14)\n",
    "    \n",
    "    ax.set_xlabel(\"X\")\n",
    "    \n",
    "    return ax\n",
    "    \n",
    "    return ax"
   ]
  },
  {
   "cell_type": "markdown",
   "metadata": {
    "deletable": false,
    "editable": false,
    "nbgrader": {
     "cell_type": "markdown",
     "checksum": "1273c2a34a05615b7b1eddff75d962cf",
     "grade": false,
     "grade_id": "cell-6956d1ebeafeca0f",
     "locked": true,
     "schema_version": 3,
     "solution": false
    }
   },
   "source": [
    "Below, we look at the stock for Alcoa Corp (ticker name: AA)."
   ]
  },
  {
   "cell_type": "code",
   "execution_count": 17,
   "metadata": {
    "deletable": false,
    "editable": false,
    "nbgrader": {
     "cell_type": "code",
     "checksum": "4f5ed20ea0333aa3e56910d5a37c7af3",
     "grade": false,
     "grade_id": "cell-1e2890f3f525e2cd",
     "locked": true,
     "schema_version": 3,
     "solution": false
    }
   },
   "outputs": [
    {
     "data": {
      "image/png": "[encoded data removed]",
      "text/plain": [
       "<Figure size 432x288 with 1 Axes>"
      ]
     },
     "metadata": {},
     "output_type": "display_data"
    }
   ],
   "source": [
    "my_hist = open_histogram(df,'AA')\n",
    "plt.show()\n",
    "plt.close()"
   ]
  },
  {
   "cell_type": "code",
   "execution_count": 18,
   "metadata": {
    "deletable": false,
    "editable": false,
    "nbgrader": {
     "cell_type": "code",
     "checksum": "469febbfb9d9726e56f482522ea4c19d",
     "grade": true,
     "grade_id": "p3-test",
     "locked": true,
     "points": 1,
     "schema_version": 3,
     "solution": false
    }
   },
   "outputs": [],
   "source": [
    "assert_is_instance(my_hist, mpl.axes.Axes, msg='Return a matplotlib axes object.')  \n",
    "assert_is_not(len(my_hist.title.get_text()), 0, msg=\"Your plot doesn't have a title.\")\n",
    "assert_is_not(my_hist.xaxis.get_label_text(), '', msg=\"Change the x-axis label to something more descriptive.\")\n",
    "assert_equal(my_hist.patches[0].get_bbox().get_points()[0][0],14.67,\n",
    "             msg=\"The number of bins may not be correct, or the function is using the wrong ticker name\")"
   ]
  },
  {
   "cell_type": "markdown",
   "metadata": {
    "deletable": false,
    "editable": false,
    "nbgrader": {
     "cell_type": "markdown",
     "checksum": "be962da2a460a2d8f8bcf022655ae637",
     "grade": false,
     "grade_id": "cell-667e619dc58a943d",
     "locked": true,
     "schema_version": 3,
     "solution": false
    }
   },
   "source": [
    "# Problem 4: Comparing the open price of quarter 1 and quarter 2\n",
    "\n",
    "\n",
    "The Dow Jones dataset contains a column called *quarter*, which corresponds to either the 1st or 2nd quarter of the year. We will create multiple boxplots to see if the distribution of opening prices in quarter 1 is different from the distribution of opening prices in quarter 2.\n",
    "\n",
    "- Create two boxplots (in the same plot) using seaborn of the columns *quarter* and *open* from the Dow Jones dataset.\n",
    "\n",
    "\n",
    "- The *quarter* variable should be on the x-axis\n",
    "\n",
    "\n",
    "- The *open* variable should be on the y-axis\n",
    "\n",
    "\n",
    "- Create a label for the y axis and the x axis\n",
    "\n",
    "\n",
    "- Set a title for your plot\n",
    "\n"
   ]
  },
  {
   "cell_type": "code",
   "execution_count": 19,
   "metadata": {
    "deletable": false,
    "nbgrader": {
     "cell_type": "code",
     "checksum": "627218b8fb1d0a2c6069fb6f2af22356",
     "grade": false,
     "grade_id": "p4-ans",
     "locked": false,
     "schema_version": 3,
     "solution": true
    }
   },
   "outputs": [],
   "source": [
    "def plot_compare_boxplot(df):\n",
    "    '''\n",
    "    A function which plots two boxplots to compare how the opening price changes based on the quarter.\n",
    "    \n",
    "    \n",
    "    Parameters\n",
    "    -------\n",
    "    df: a pandas dataframe containing stock price data\n",
    "    \n",
    "    \n",
    "    Returns\n",
    "    --------\n",
    "    \n",
    "    ax: a matplotlib axes object containing a boxplot\n",
    "    \n",
    "    '''    \n",
    "    \n",
    "    # YOUR CODE HERE\n",
    "    fig, ax = plt.subplots(figsize=(10, 10))\n",
    "    sns.boxplot(x=df['quarter'], y=df['open'], data=df, ax=ax)\n",
    "    sns.boxplot(x=df['quarter'], y=df['open'], data=df, ax=ax)\n",
    "    ax.set_title(\"Comparing the open price of quarter 1 and quarter 2\")\n",
    "    return ax\n",
    "    \n",
    "    return ax"
   ]
  },
  {
   "cell_type": "code",
   "execution_count": 20,
   "metadata": {
    "deletable": false,
    "editable": false,
    "nbgrader": {
     "cell_type": "code",
     "checksum": "4e677c05ab05978ac0c3b196e277bcae",
     "grade": false,
     "grade_id": "cell-1f929fd103f4bb95",
     "locked": true,
     "schema_version": 3,
     "solution": false
    }
   },
   "outputs": [
    {
     "data": {
      "image/png": "[encoded data removed]",
      "text/plain": [
       "<Figure size 720x720 with 1 Axes>"
      ]
     },
     "metadata": {},
     "output_type": "display_data"
    }
   ],
   "source": [
    "cb = plot_compare_boxplot(df)"
   ]
  },
  {
   "cell_type": "code",
   "execution_count": 21,
   "metadata": {
    "deletable": false,
    "editable": false,
    "nbgrader": {
     "cell_type": "code",
     "checksum": "fa48cce82bdcdd163bd5f952d5daa779",
     "grade": true,
     "grade_id": "p4-test",
     "locked": true,
     "points": 1,
     "schema_version": 3,
     "solution": false
    }
   },
   "outputs": [],
   "source": [
    "assert_is_instance(cb, mpl.axes.Axes, msg='Return a matplotlib axes object.')  \n",
    "assert_is_not(len(cb.title.get_text()), 0, msg=\"Your plot doesn't have a title.\")\n",
    "assert_is_not(cb.xaxis.get_label_text(), '', msg=\"Change the x-axis label to something more descriptive.\")\n",
    "assert_is_not(cb.yaxis.get_label_text(), '', msg=\"Change the y-axis label to something more descriptive.\")\n",
    "assert_equal(cb.get_data_ratio(),88.836,\n",
    "             msg=\"The function is either plotting the wrong columns or quarter is not on the x-axis.\")"
   ]
  },
  {
   "cell_type": "code",
   "execution_count": null,
   "metadata": {},
   "outputs": [],
   "source": []
  }
 ],
 "metadata": {
  "coursera": {
   "course_slug": "accounting-data-analytics-python",
   "graded_item_id": "EpcDF",
   "launcher_item_id": "gh4Xg"
  },
  "kernelspec": {
   "display_name": "Python 3",
   "language": "python",
   "name": "python3"
  },
  "language_info": {
   "codemirror_mode": {
    "name": "ipython",
    "version": 3
   },
   "file_extension": ".py",
   "mimetype": "text/x-python",
   "name": "python",
   "nbconvert_exporter": "python",
   "pygments_lexer": "ipython3",
   "version": "3.7.3"
  }
 },
 "nbformat": 4,
 "nbformat_minor": 2
}
